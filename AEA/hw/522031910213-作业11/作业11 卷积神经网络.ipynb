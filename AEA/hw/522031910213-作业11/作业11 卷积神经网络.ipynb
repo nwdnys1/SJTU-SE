{
 "cells": [
  {
   "cell_type": "markdown",
   "metadata": {},
   "source": [
    "<h1 align=center> &nbsp;&nbsp;&nbsp;&nbsp;&nbsp;&nbsp;&nbsp;应用系统体系架构 - 人工智能模块 </h1>\n",
    "\n",
    "<h1 align=center> &nbsp;&nbsp;&nbsp;&nbsp;&nbsp;&nbsp;&nbsp;&nbsp;A2：卷积神经网络 - 作业</h1>\n",
    "\n",
    "<br/>\n",
    "\n",
    "\n",
    "### 关于这个Notebook\n",
    "\n",
    "在这个Notebook中，大家参照上课的CIFAR-10的案例，构建卷积神经网络来对CIFAR-100数据集中的图像进行分类，并且确保分类准确率可以超过45%。"
   ]
  },
  {
   "cell_type": "markdown",
   "metadata": {},
   "source": [
    "### 构建对CIFAR-100数据集中的图像进行分类的CNN\n",
    "\n",
    "有关 CIFAR-100 的详细内容可以参阅：\n",
    "https://www.cs.toronto.edu/~kriz/cifar.html\n",
    "\n",
    "\n",
    "### 构建卷积神经网络(Convolutional Neural Nets)\n",
    "<font color=red>作业要求：</font>\n",
    "\n",
    "- <font color=red>你可以使用Keras来构建和训练自己的卷积神经网络，并通过调整超参数使你的模型的分类准确率可以达到45%以上。</font>"
   ]
  },
  {
   "cell_type": "markdown",
   "metadata": {},
   "source": [
    "下面是导入必要的包、加载数据和进行数据预处理的代码："
   ]
  },
  {
   "cell_type": "code",
   "execution_count": 1,
   "metadata": {},
   "outputs": [],
   "source": [
    "from __future__ import print_function\n",
    "import tensorflow.keras as keras\n",
    "from keras.datasets import cifar100\n",
    "from keras.models import Sequential\n",
    "from keras.layers import Dense, Dropout, Activation, Flatten\n",
    "from keras.layers import Conv2D, MaxPooling2D\n",
    "\n",
    "import matplotlib.pyplot as plt\n",
    "%matplotlib inline"
   ]
  },
  {
   "cell_type": "code",
   "execution_count": 2,
   "metadata": {},
   "outputs": [
    {
     "name": "stdout",
     "output_type": "stream",
     "text": [
      "x_train shape: (50000, 32, 32, 3)\n",
      "50000 train samples\n",
      "10000 test samples\n"
     ]
    }
   ],
   "source": [
    "# The data, shuffled and split between train and test sets:\n",
    "(x_train, y_train), (x_test, y_test) = cifar100.load_data()\n",
    "print('x_train shape:', x_train.shape)\n",
    "print(x_train.shape[0], 'train samples')\n",
    "print(x_test.shape[0], 'test samples')"
   ]
  },
  {
   "cell_type": "code",
   "execution_count": 3,
   "metadata": {},
   "outputs": [
    {
     "data": {
      "text/plain": [
       "array([[[ 92,  73,  46],\n",
       "        [ 96,  73,  44],\n",
       "        [ 96,  69,  40],\n",
       "        ...,\n",
       "        [134, 100,  55],\n",
       "        [136, 101,  57],\n",
       "        [139, 105,  61]],\n",
       "\n",
       "       [[ 94,  75,  47],\n",
       "        [ 95,  71,  42],\n",
       "        [ 97,  70,  41],\n",
       "        ...,\n",
       "        [135, 101,  56],\n",
       "        [136, 101,  56],\n",
       "        [145, 110,  65]],\n",
       "\n",
       "       [[ 97,  78,  52],\n",
       "        [ 93,  71,  43],\n",
       "        [101,  74,  46],\n",
       "        ...,\n",
       "        [129,  95,  54],\n",
       "        [136, 102,  57],\n",
       "        [143, 109,  64]],\n",
       "\n",
       "       ...,\n",
       "\n",
       "       [[157, 123,  85],\n",
       "        [203, 184, 152],\n",
       "        [209, 185, 134],\n",
       "        ...,\n",
       "        [164, 131,  85],\n",
       "        [158, 122,  72],\n",
       "        [173, 140,  97]],\n",
       "\n",
       "       [[160, 129,  89],\n",
       "        [172, 148, 122],\n",
       "        [188, 162, 119],\n",
       "        ...,\n",
       "        [165, 132,  86],\n",
       "        [167, 131,  81],\n",
       "        [182, 149, 106]],\n",
       "\n",
       "       [[166, 138,  99],\n",
       "        [157, 130,  97],\n",
       "        [152, 121,  82],\n",
       "        ...,\n",
       "        [159, 128,  82],\n",
       "        [173, 136,  91],\n",
       "        [180, 143, 100]]], dtype=uint8)"
      ]
     },
     "execution_count": 3,
     "metadata": {},
     "output_type": "execute_result"
    }
   ],
   "source": [
    "## Each image is a 32 x 32 x 3 numpy array\n",
    "x_train[444].shape\n",
    "x_train[444]"
   ]
  },
  {
   "cell_type": "code",
   "execution_count": 4,
   "metadata": {
    "scrolled": true
   },
   "outputs": [
    {
     "name": "stdout",
     "output_type": "stream",
     "text": [
      "[75]\n"
     ]
    },
    {
     "data": {
      "image/png": "[encoded data removed]",
      "text/plain": [
       "<Figure size 640x480 with 1 Axes>"
      ]
     },
     "metadata": {},
     "output_type": "display_data"
    }
   ],
   "source": [
    "## Let's look at one of the images\n",
    "\n",
    "print(y_train[444])\n",
    "plt.imshow(x_train[444]);"
   ]
  },
  {
   "cell_type": "code",
   "execution_count": 5,
   "metadata": {},
   "outputs": [],
   "source": [
    "num_classes = 100\n",
    "\n",
    "y_train = keras.utils.to_categorical(y_train, num_classes)\n",
    "y_test = keras.utils.to_categorical(y_test, num_classes)"
   ]
  },
  {
   "cell_type": "code",
   "execution_count": 6,
   "metadata": {},
   "outputs": [
    {
     "data": {
      "text/plain": [
       "array([0., 0., 0., 0., 0., 0., 0., 0., 0., 0., 0., 0., 0., 0., 0., 0., 0.,\n",
       "       0., 0., 0., 0., 0., 0., 0., 0., 0., 0., 0., 0., 0., 0., 0., 0., 0.,\n",
       "       0., 0., 0., 0., 0., 0., 0., 0., 0., 0., 0., 0., 0., 0., 0., 0., 0.,\n",
       "       0., 0., 0., 0., 0., 0., 0., 0., 0., 0., 0., 0., 0., 0., 0., 0., 0.,\n",
       "       0., 0., 0., 0., 0., 0., 0., 1., 0., 0., 0., 0., 0., 0., 0., 0., 0.,\n",
       "       0., 0., 0., 0., 0., 0., 0., 0., 0., 0., 0., 0., 0., 0., 0.],\n",
       "      dtype=float32)"
      ]
     },
     "execution_count": 6,
     "metadata": {},
     "output_type": "execute_result"
    }
   ],
   "source": [
    "# now instead of classes described by an integer between 0-9 we have a vector with a 1 in the (Pythonic) 9th position\n",
    "y_train[444]"
   ]
  },
  {
   "cell_type": "code",
   "execution_count": 7,
   "metadata": {},
   "outputs": [],
   "source": [
    "# As before, let's make everything float and scale\n",
    "x_train = x_train.astype('float32')\n",
    "x_test = x_test.astype('float32')\n",
    "x_train /= 255\n",
    "x_test /= 255"
   ]
  },
  {
   "cell_type": "markdown",
   "metadata": {},
   "source": [
    "## Keras 中用于 CNN 的层\n",
    "- 之前我们使用过基础的 Dense、Activation 和 Dropout 层构建过神经网络。\n",
    "\n",
    "- 现在我们将描述如何使用Keras中提供的与CNN相关的一些层。\n",
    "\n",
    "### Conv2D\n",
    "\n",
    "```python\n",
    "keras.layers.convolutional.Conv2D(filters, kernel_size, strides=(1, 1), padding='valid', data_format=None, dilation_rate=(1, 1), activation=None, use_bias=True, kernel_initializer='glorot_uniform', bias_initializer='zeros', kernel_regularizer=None, bias_regularizer=None, activity_regularizer=None, kernel_constraint=None, bias_constraint=None, **kwargs)\n",
    "```\n",
    "\n",
    "其中若干个参数的含义：\n",
    "- `filters`: 每个位置使用的过滤器数量，换句话说，就是输出的深度。\n",
    "- `kernel_size`: 一个 (x,y) 元素，给出了要使用的卷积核的高度和宽度。\n",
    "- `strides`: 一个 (x,y) 元素，给出了在每一维上的步幅。默认值为 `(1,1)`\n",
    "- `input_shape`: 只有第一层需要这个参数，表示输入的形状。\n",
    "\n",
    "注意，输出的尺寸是由 kernel_size 和 strides 确定的。\n",
    "\n",
    "### MaxPooling2D\n",
    "`keras.layers.pooling.MaxPooling2D(pool_size=(2, 2), strides=None, padding='valid', data_format=None)`\n",
    "\n",
    "- `pool_size`: 要池化的网格的 (x,y) 尺寸。\n",
    "- `strides`: 假设等于 `pool_size` ，除非另外做了设定。\n",
    "\n",
    "### Flatten\n",
    "将其输入转换为一维向量。通常用于从卷积层转移到全连接层时。\n",
    "\n",
    "---\n",
    "\n",
    "## <font color=red> 构建你的CNN </font>\n",
    "<font color=red> 下面看你的了，构建你自己的模型并进行训练。</font>"
   ]
  },
  {
   "cell_type": "code",
   "execution_count": 8,
   "metadata": {},
   "outputs": [
    {
     "name": "stdout",
     "output_type": "stream",
     "text": [
      "Model: \"sequential\"\n",
      "_________________________________________________________________\n",
      "Layer (type)                 Output Shape              Param #   \n",
      "=================================================================\n",
      "conv2d (Conv2D)              (None, 32, 32, 32)        896       \n",
      "_________________________________________________________________\n",
      "conv2d_1 (Conv2D)            (None, 32, 32, 64)        18496     \n",
      "_________________________________________________________________\n",
      "max_pooling2d (MaxPooling2D) (None, 16, 16, 64)        0         \n",
      "_________________________________________________________________\n",
      "conv2d_2 (Conv2D)            (None, 16, 16, 128)       73856     \n",
      "_________________________________________________________________\n",
      "conv2d_3 (Conv2D)            (None, 16, 16, 256)       295168    \n",
      "_________________________________________________________________\n",
      "max_pooling2d_1 (MaxPooling2 (None, 8, 8, 256)         0         \n",
      "_________________________________________________________________\n",
      "flatten (Flatten)            (None, 16384)             0         \n",
      "_________________________________________________________________\n",
      "dense (Dense)                (None, 1024)              16778240  \n",
      "_________________________________________________________________\n",
      "dropout (Dropout)            (None, 1024)              0         \n",
      "_________________________________________________________________\n",
      "dense_1 (Dense)              (None, 100)               102500    \n",
      "=================================================================\n",
      "Total params: 17,269,156\n",
      "Trainable params: 17,269,156\n",
      "Non-trainable params: 0\n",
      "_________________________________________________________________\n"
     ]
    }
   ],
   "source": [
    "model = Sequential()\n",
    "\n",
    "# 第一层卷积层：使用 32 个 3x3 卷积核，激活函数 ReLU，步幅为1，padding 为 same，卷积后尺寸不变\n",
    "model.add(Conv2D(32, (3, 3), activation='relu', padding='same', input_shape=x_train.shape[1:]))\n",
    "\n",
    "# 第二层卷积层：64 个 3x3 卷积核\n",
    "model.add(Conv2D(64, (3, 3), activation='relu', padding='same'))\n",
    "\n",
    "# 第1层池化层：2x2 最大池化\n",
    "model.add(MaxPooling2D(pool_size=(2, 2)))\n",
    "\n",
    "# 第三层卷积层：128 个 3x3 卷积核\n",
    "model.add(Conv2D(128, (3, 3), activation='relu', padding='same'))\n",
    "\n",
    "# 第四层卷积层：256 个 3x3 卷积核\n",
    "model.add(Conv2D(256, (3, 3), activation='relu', padding='same'))\n",
    "\n",
    "# 第2层池化层：2x2 最大池化\n",
    "model.add(MaxPooling2D(pool_size=(2, 2)))\n",
    "\n",
    "# 将卷积层的输出展平为一维向量\n",
    "model.add(Flatten())\n",
    "\n",
    "# 第一个全连接层：1024 个神经元，使用 ReLU 激活函数\n",
    "model.add(Dense(1024, activation='relu'))\n",
    "\n",
    "# Dropout 层：防止过拟合，丢弃率为 0.1\n",
    "model.add(Dropout(0.1))\n",
    "\n",
    "# 第二个全连接层：100 个神经元，代表 CIFAR-100 中的 100 个类\n",
    "model.add(Dense(100, activation='softmax'))\n",
    "\n",
    "# 编译模型，使用 Adam 优化器和类别交叉熵损失函数\n",
    "model.compile(optimizer='adam', loss='categorical_crossentropy', metrics=['accuracy'])\n",
    "\n",
    "# 输出模型总结\n",
    "model.summary()"
   ]
  },
  {
   "cell_type": "markdown",
   "metadata": {},
   "source": [
    "使用测试数据集验证你的模型的准确度"
   ]
  },
  {
   "cell_type": "code",
   "execution_count": 9,
   "metadata": {},
   "outputs": [
    {
     "name": "stdout",
     "output_type": "stream",
     "text": [
      "Epoch 1/15\n",
      "49/49 [==============================] - 16s 222ms/step - loss: 4.0646 - accuracy: 0.0910 - val_loss: 3.5195 - val_accuracy: 0.1718\n",
      "Epoch 2/15\n",
      "49/49 [==============================] - 7s 149ms/step - loss: 3.2320 - accuracy: 0.2261 - val_loss: 3.0045 - val_accuracy: 0.2733\n",
      "Epoch 3/15\n",
      "49/49 [==============================] - 7s 150ms/step - loss: 2.7692 - accuracy: 0.3127 - val_loss: 2.6899 - val_accuracy: 0.3374\n",
      "Epoch 4/15\n",
      "49/49 [==============================] - 8s 154ms/step - loss: 2.3967 - accuracy: 0.3916 - val_loss: 2.4858 - val_accuracy: 0.3782\n",
      "Epoch 5/15\n",
      "49/49 [==============================] - 7s 150ms/step - loss: 2.0701 - accuracy: 0.4611 - val_loss: 2.4197 - val_accuracy: 0.3956\n",
      "Epoch 6/15\n",
      "49/49 [==============================] - 7s 149ms/step - loss: 1.7133 - accuracy: 0.5425 - val_loss: 2.4011 - val_accuracy: 0.4095\n",
      "Epoch 7/15\n",
      "49/49 [==============================] - 7s 149ms/step - loss: 1.3696 - accuracy: 0.6255 - val_loss: 2.4815 - val_accuracy: 0.4155\n",
      "Epoch 8/15\n",
      "49/49 [==============================] - 7s 152ms/step - loss: 0.9848 - accuracy: 0.7243 - val_loss: 2.5673 - val_accuracy: 0.4229\n",
      "Epoch 9/15\n",
      "49/49 [==============================] - 8s 158ms/step - loss: 0.6617 - accuracy: 0.8098 - val_loss: 2.8803 - val_accuracy: 0.4143\n",
      "Epoch 10/15\n",
      "49/49 [==============================] - 7s 150ms/step - loss: 0.4020 - accuracy: 0.8809 - val_loss: 3.2675 - val_accuracy: 0.4152\n",
      "Epoch 11/15\n",
      "49/49 [==============================] - 7s 150ms/step - loss: 0.2522 - accuracy: 0.9250 - val_loss: 3.5518 - val_accuracy: 0.4167\n",
      "Epoch 12/15\n",
      "49/49 [==============================] - 6s 126ms/step - loss: 0.1654 - accuracy: 0.9523 - val_loss: 3.8638 - val_accuracy: 0.4143\n",
      "Epoch 13/15\n",
      "49/49 [==============================] - 7s 139ms/step - loss: 0.1239 - accuracy: 0.9640 - val_loss: 4.1381 - val_accuracy: 0.4107\n",
      "Epoch 14/15\n",
      "49/49 [==============================] - 7s 146ms/step - loss: 0.1068 - accuracy: 0.9677 - val_loss: 4.0857 - val_accuracy: 0.4139\n",
      "Epoch 15/15\n",
      "49/49 [==============================] - 7s 150ms/step - loss: 0.0830 - accuracy: 0.9754 - val_loss: 4.3551 - val_accuracy: 0.4187\n"
     ]
    },
    {
     "data": {
      "text/plain": [
       "<keras.callbacks.History at 0x20ec1246bb0>"
      ]
     },
     "execution_count": 9,
     "metadata": {},
     "output_type": "execute_result"
    }
   ],
   "source": [
    "model.compile(loss='categorical_crossentropy',\n",
    "              optimizer='adam',\n",
    "              metrics=['accuracy'])\n",
    "model.fit(x_train, y_train,\n",
    "              batch_size=1024,\n",
    "              epochs=15,\n",
    "              validation_data=(x_test, y_test),\n",
    "              shuffle=True)"
   ]
  }
 ],
 "metadata": {
  "kernelspec": {
   "display_name": "Python 3 (ipykernel)",
   "language": "python",
   "name": "python3"
  },
  "language_info": {
   "codemirror_mode": {
    "name": "ipython",
    "version": 3
   },
   "file_extension": ".py",
   "mimetype": "text/x-python",
   "name": "python",
   "nbconvert_exporter": "python",
   "pygments_lexer": "ipython3",
   "version": "3.8.20"
  }
 },
 "nbformat": 4,
 "nbformat_minor": 4
}
