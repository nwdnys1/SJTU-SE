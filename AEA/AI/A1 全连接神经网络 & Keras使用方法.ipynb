{
 "cells": [
  {
   "cell_type": "markdown",
   "metadata": {},
   "source": [
    "<h1 align=center> &nbsp;&nbsp;&nbsp;&nbsp;&nbsp;&nbsp;&nbsp;应用系统体系架构 - 人工智能模块 </h1>\n",
    "\n",
    "<h1 align=center> &nbsp;&nbsp;&nbsp;&nbsp;&nbsp;&nbsp;&nbsp;&nbsp;A1：全连接神经网络 & Keras使用方法</h1>"
   ]
  },
  {
   "cell_type": "markdown",
   "metadata": {},
   "source": [
    "## 0. 引言\n",
    "\n",
    "这个教程主要介绍了使用Keras建立一个简单的全连接人工神经网络模型的基本工作流，希望通过这个教程能够帮助大家了解Keras中的一些基本概念。\n",
    "\n",
    "Keras官网地址：https://keras.io/"
   ]
  },
  {
   "cell_type": "markdown",
   "metadata": {},
   "source": [
    "## 1. 安装 Keras 3 和 Backend"
   ]
  },
  {
   "cell_type": "markdown",
   "metadata": {},
   "source": [
    "You can install Keras from PyPI via:\n",
    "\n",
    "``` pip install --upgrade keras ```\n",
    "\n",
    "To use Keras 3, you will also need to install a backend framework – either JAX, TensorFlow, or PyTorch:\n",
    "\n",
    "- JAX:\n",
    "\n",
    "- ```pip install -U jax ```\n",
    "\n",
    "- TensorFlow:\n",
    "\n",
    "- ``` pip install tensorflow ```\n",
    "\n",
    "- PyTorch:\n",
    "\n",
    "- ``` pip3 install torch torchvision ```\n"
   ]
  },
  {
   "cell_type": "markdown",
   "metadata": {},
   "source": [
    "## 2. 配置Backend"
   ]
  },
  {
   "cell_type": "markdown",
   "metadata": {},
   "source": [
    "设置环境变量\n",
    "``` \n",
    "export KERAS_BACKEND=\"jax\"\n",
    "```\n",
    "\n",
    "或者在代码中设置\n",
    "```\n",
    "import os\n",
    "os.environ[\"KERAS_BACKEND\"] = \"jax\"\n",
    "import keras\n",
    "```"
   ]
  },
  {
   "cell_type": "markdown",
   "metadata": {},
   "source": [
    "## 3. 加载必要的包和数据集"
   ]
  },
  {
   "cell_type": "code",
   "execution_count": 1,
   "metadata": {},
   "outputs": [
    {
     "name": "stdout",
     "output_type": "stream",
     "text": [
      "Active code page: 65001\n"
     ]
    },
    {
     "name": "stderr",
     "output_type": "stream",
     "text": [
      "'rm' is not recognized as an internal or external command,\n",
      "operable program or batch file.\n"
     ]
    }
   ],
   "source": [
    "# 加载 Tensorboard 扩展，用于模型可视化\n",
    "%load_ext tensorboard\n",
    "\n",
    "# 设置 Keras 的 Backend。每次进行新的设置时，需要restart环境\n",
    "import os\n",
    "os.environ[\"KERAS_BACKEND\"] = \"tensorflow\"\n",
    "\n",
    "# 导入 Keras 需要用到包\n",
    "import tensorflow.keras as keras\n",
    "from datetime import datetime\n",
    "import tensorboard\n",
    "\n",
    "# 清理之前的log文件，以确保 Tensorboard 显示正确\n",
    "!rm -rf ./logs/"
   ]
  },
  {
   "cell_type": "markdown",
   "metadata": {},
   "source": [
    "## 4. 加载和审视数据集"
   ]
  },
  {
   "cell_type": "code",
   "execution_count": 2,
   "metadata": {},
   "outputs": [],
   "source": [
    "from keras import datasets\n",
    "\n",
    "(x_train, y_train),(x_test, y_test) = datasets.mnist.load_data()\n",
    "x_train, x_test = x_train / 255.0, x_test / 255.0"
   ]
  },
  {
   "cell_type": "markdown",
   "metadata": {},
   "source": [
    "### 画图的函数"
   ]
  },
  {
   "cell_type": "markdown",
   "metadata": {},
   "source": [
    "在3x3网格上画出9个图片并且在图片下方标注正确的类别和预测的类别的函数"
   ]
  },
  {
   "cell_type": "code",
   "execution_count": 3,
   "metadata": {},
   "outputs": [],
   "source": [
    "import matplotlib.pyplot as plt\n",
    "\n",
    "def plot_images(images, cls_true, cls_pred=None):\n",
    "    assert len(images) == len(cls_true) == 9\n",
    "    \n",
    "    # 创建一个包含3x3个子图的图\n",
    "    fig, axes = plt.subplots(3, 3)\n",
    "    fig.subplots_adjust(hspace=0.3, wspace=0.3)\n",
    "\n",
    "    for i, ax in enumerate(axes.flat):\n",
    "        # 画图\n",
    "        ax.imshow(images[i].reshape([28,28]), cmap='binary')\n",
    "\n",
    "        # 展示正确的类别和预测的类别\n",
    "        if cls_pred is None:\n",
    "            xlabel = \"True: {0}\".format(cls_true[i])\n",
    "        else:\n",
    "            xlabel = \"True: {0}, Pred: {1}\".format(cls_true[i], cls_pred[i])\n",
    "\n",
    "        ax.set_xlabel(xlabel)\n",
    "        \n",
    "        # 将图中的轴线去掉\n",
    "        ax.set_xticks([])\n",
    "        ax.set_yticks([])"
   ]
  },
  {
   "cell_type": "markdown",
   "metadata": {},
   "source": [
    "### 画几个图片看看数据是不是对的"
   ]
  },
  {
   "cell_type": "code",
   "execution_count": 4,
   "metadata": {},
   "outputs": [
    {
     "data": {
      "image/png": "[encoded data removed]",
      "text/plain": [
       "<Figure size 640x480 with 9 Axes>"
      ]
     },
     "metadata": {},
     "output_type": "display_data"
    }
   ],
   "source": [
    "# 从测试数据集中取出前9个图片\n",
    "images = x_test[0:9]\n",
    "\n",
    "# 从测试数据集中取出前9个标签?\n",
    "cls_true = y_test[0:9]\n",
    "\n",
    "# 使用辅助函数将图片和标签画出来\n",
    "plot_images(images=images, cls_true=cls_true)"
   ]
  },
  {
   "cell_type": "markdown",
   "metadata": {},
   "source": [
    "## 5. 构建模型"
   ]
  },
  {
   "cell_type": "code",
   "execution_count": 5,
   "metadata": {},
   "outputs": [
    {
     "name": "stdout",
     "output_type": "stream",
     "text": [
      "Epoch 1/10\n",
      "1875/1875 [==============================] - 1s 627us/step - loss: 0.2984 - accuracy: 0.9122\n",
      "Epoch 2/10\n",
      "1875/1875 [==============================] - 1s 602us/step - loss: 0.1411 - accuracy: 0.9584\n",
      "Epoch 3/10\n",
      "1875/1875 [==============================] - 1s 598us/step - loss: 0.1077 - accuracy: 0.9676\n",
      "Epoch 4/10\n",
      "1875/1875 [==============================] - 1s 625us/step - loss: 0.0875 - accuracy: 0.9730\n",
      "Epoch 5/10\n",
      "1875/1875 [==============================] - 1s 611us/step - loss: 0.0758 - accuracy: 0.9758\n",
      "Epoch 6/10\n",
      "1875/1875 [==============================] - 1s 619us/step - loss: 0.0675 - accuracy: 0.9788\n",
      "Epoch 7/10\n",
      "1875/1875 [==============================] - 1s 632us/step - loss: 0.0584 - accuracy: 0.9812\n",
      "Epoch 8/10\n",
      "1875/1875 [==============================] - 1s 604us/step - loss: 0.0540 - accuracy: 0.9826\n",
      "Epoch 9/10\n",
      "1875/1875 [==============================] - 1s 602us/step - loss: 0.0494 - accuracy: 0.9830\n",
      "Epoch 10/10\n",
      "1875/1875 [==============================] - 1s 617us/step - loss: 0.0461 - accuracy: 0.9851\n",
      "313/313 [==============================] - 0s 420us/step - loss: 0.0745 - accuracy: 0.9763\n"
     ]
    },
    {
     "data": {
      "text/plain": [
       "Reusing TensorBoard on port 6007 (pid 24280), started 5:01:03 ago. (Use '!kill 24280' to kill it.)"
      ]
     },
     "metadata": {},
     "output_type": "display_data"
    },
    {
     "data": {
      "text/html": [
       "\n",
       "      <iframe id=\"tensorboard-frame-f44e1beae94f44d4\" width=\"100%\" height=\"800\" frameborder=\"0\">\n",
       "      </iframe>\n",
       "      <script>\n",
       "        (function() {\n",
       "          const frame = document.getElementById(\"tensorboard-frame-f44e1beae94f44d4\");\n",
       "          const url = new URL(\"http://localhost\");\n",
       "          const port = 6007;\n",
       "          if (port) {\n",
       "            url.port = port;\n",
       "          }\n",
       "          frame.src = url;\n",
       "        })();\n",
       "      </script>\n",
       "    "
      ],
      "text/plain": [
       "<IPython.core.display.HTML object>"
      ]
     },
     "metadata": {},
     "output_type": "display_data"
    }
   ],
   "source": [
    "from keras import Input\n",
    "from keras.models import Sequential\n",
    "from keras.layers import Flatten, Dense, Dropout\n",
    "\n",
    "model = Sequential([\n",
    "  Input(shape=(28, 28, ), batch_size=32),\n",
    "  Flatten(),\n",
    "  Dense(128, activation='relu'),\n",
    "  Dropout(0.2),\n",
    "  Dense(10, activation='softmax')\n",
    "])\n",
    "\n",
    "model.compile(optimizer='adam',\n",
    "  loss='sparse_categorical_crossentropy',\n",
    "  metrics=['accuracy'])\n",
    "\n",
    "# Define the Keras TensorBoard callback.\n",
    "logdir=\"logs/fit/\" + datetime.now().strftime(\"%Y%m%d-%H%M%S\")\n",
    "tensorboard_callback = keras.callbacks.TensorBoard(log_dir=logdir)\n",
    "\n",
    "model.fit(x_train, y_train, epochs=10)\n",
    "model.evaluate(x_test, y_test)\n",
    "model.save(\"model.keras\")\n",
    "\n",
    "%tensorboard --logdir logs"
   ]
  },
  {
   "cell_type": "markdown",
   "metadata": {},
   "source": [
    "## 6. 观察权重"
   ]
  },
  {
   "cell_type": "code",
   "execution_count": 6,
   "metadata": {},
   "outputs": [
    {
     "data": {
      "image/png": "[encoded data removed]",
      "text/plain": [
       "<Figure size 640x480 with 12 Axes>"
      ]
     },
     "metadata": {},
     "output_type": "display_data"
    }
   ],
   "source": [
    "import numpy as np\n",
    "import matplotlib.pyplot as plt\n",
    "\n",
    "w = model.get_weights()\n",
    "w = np.array(w[0])\n",
    "\n",
    "w_min = np.min(w)\n",
    "w_max = np.max(w)\n",
    "\n",
    "# 建立一个包含3x4个子图的图形，最后两个子图没有被使用，因为一共只有10个数字\n",
    "fig, axes = plt.subplots(3, 4)\n",
    "fig.subplots_adjust(hspace=0.3, wspace=0.3)\n",
    "\n",
    "for i, ax in enumerate(axes.flat):\n",
    "    # 只使用前10个子图的权重值\n",
    "    if i<10:\n",
    "        # 取得第i个数字的权重值并且改变这个张量的形状，注意w的形状是img_size_flat x 10\n",
    "        image = w[:, i].reshape(28,28)\n",
    "\n",
    "        # 为每个子图设置标签\n",
    "        ax.set_xlabel(\"Weights: {0}\".format(i))\n",
    "\n",
    "        # 画图\n",
    "        ax.imshow(image, vmin=w_min, vmax=w_max, cmap='seismic')\n",
    "\n",
    "    # 将轴线从每个子图中删除\n",
    "    ax.set_xticks([])\n",
    "    ax.set_yticks([])"
   ]
  }
 ],
 "metadata": {
  "anaconda-cloud": {},
  "kernelspec": {
   "display_name": "Python 3 (ipykernel)",
   "language": "python",
   "name": "python3"
  },
  "language_info": {
   "codemirror_mode": {
    "name": "ipython",
    "version": 3
   },
   "file_extension": ".py",
   "mimetype": "text/x-python",
   "name": "python",
   "nbconvert_exporter": "python",
   "pygments_lexer": "ipython3",
   "version": "3.8.20"
  }
 },
 "nbformat": 4,
 "nbformat_minor": 4
}
